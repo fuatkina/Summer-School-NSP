{
 "cells": [
  {
   "cell_type": "markdown",
   "metadata": {
    "id": "TXQNWNPeDzuF"
   },
   "source": [
    "# Introduction to Scientific Programming in Python - 2"
   ]
  },
  {
   "cell_type": "markdown",
   "metadata": {},
   "source": [
    "Created by Vahid Rostami. Accessed via Social ComQuant project https://socialcomquant.ku.edu.tr/,\n",
    "\n",
    "and revised by M.Fuat Kına."
   ]
  },
  {
   "cell_type": "markdown",
   "metadata": {
    "id": "dO4KDBceDzuG"
   },
   "source": [
    "Important functions that are frequently used are stored in libraries. In this second day we will introduce two importan python libraries, namely **Numpy** and **Matplotlib**"
   ]
  },
  {
   "cell_type": "markdown",
   "metadata": {
    "id": "L0aZvaKjgfw9"
   },
   "source": [
    "## Numpy"
   ]
  },
  {
   "cell_type": "markdown",
   "metadata": {
    "id": "fwW6O4VegfNM"
   },
   "source": [
    "Numpy (Numerical Python) is a core library in Python for numerical calculation. It consists of multidimensional arrays and a rich collection of methods for applying mathematical operations on those arrays."
   ]
  },
  {
   "cell_type": "code",
   "execution_count": 1,
   "metadata": {},
   "outputs": [],
   "source": [
    "# Let's look at nested lists\n",
    "\n",
    "my_list = [1,2,5,[0,1],[2,3,5]]"
   ]
  },
  {
   "cell_type": "code",
   "execution_count": 2,
   "metadata": {},
   "outputs": [
    {
     "data": {
      "text/plain": [
       "2"
      ]
     },
     "execution_count": 2,
     "metadata": {},
     "output_type": "execute_result"
    }
   ],
   "source": [
    "my_list[4][0]"
   ]
  },
  {
   "cell_type": "markdown",
   "metadata": {
    "id": "kFkbdNg9kR-G"
   },
   "source": [
    "### Numpy Arrays"
   ]
  },
  {
   "cell_type": "markdown",
   "metadata": {
    "id": "Ham1irnhkVYd"
   },
   "source": [
    "Numpy arrays are great alternatives to Python Lists. Specifically for scientific computing and numerical calculation numpy arrays are much easier to handle and do computation. \n",
    "\n",
    "How to create a numpy array:"
   ]
  },
  {
   "cell_type": "code",
   "execution_count": 1,
   "metadata": {
    "colab": {
     "base_uri": "https://localhost:8080/"
    },
    "id": "w8BlLsaqhXSS",
    "outputId": "a26e04d2-9996-4746-fd56-f1c0d981450e"
   },
   "outputs": [],
   "source": [
    "# first we import numpy. Note that as we gonna call numpy again and again\n",
    "# it is convenient to give a short name to like np\n",
    "import numpy as np\n",
    "\n",
    "arr1d = np.array([1,2,3]) # Create a one dimensional array\n",
    "arr2d = np.array( [ [1,2,3] , [4,5,6] ] ) # Create two dimensional array"
   ]
  },
  {
   "cell_type": "code",
   "execution_count": 2,
   "metadata": {
    "tags": []
   },
   "outputs": [
    {
     "data": {
      "text/plain": [
       "numpy.ndarray"
      ]
     },
     "execution_count": 2,
     "metadata": {},
     "output_type": "execute_result"
    }
   ],
   "source": [
    "type(arr1d)"
   ]
  },
  {
   "cell_type": "code",
   "execution_count": 3,
   "metadata": {
    "tags": []
   },
   "outputs": [
    {
     "name": "stdout",
     "output_type": "stream",
     "text": [
      "(3,)\n",
      "(2, 3)\n"
     ]
    }
   ],
   "source": [
    "print(arr1d.shape)\n",
    "print(arr2d.shape)"
   ]
  },
  {
   "cell_type": "code",
   "execution_count": 4,
   "metadata": {
    "tags": []
   },
   "outputs": [
    {
     "data": {
      "text/plain": [
       "array([[1, 2, 3],\n",
       "       [4, 5, 6]])"
      ]
     },
     "execution_count": 4,
     "metadata": {},
     "output_type": "execute_result"
    }
   ],
   "source": [
    "arr2d"
   ]
  },
  {
   "cell_type": "markdown",
   "metadata": {},
   "source": [
    "###### Not: An n × m matrix A is a rectangular array of numbers with n rows and m columns."
   ]
  },
  {
   "cell_type": "markdown",
   "metadata": {
    "id": "-GXdVNrSm65v"
   },
   "source": [
    "Numpy also provides many functions to create arrays:"
   ]
  },
  {
   "cell_type": "code",
   "execution_count": 5,
   "metadata": {
    "id": "EhstX5fSnD4u",
    "tags": []
   },
   "outputs": [
    {
     "name": "stdout",
     "output_type": "stream",
     "text": [
      "[[0. 0.]\n",
      " [0. 0.]]\n"
     ]
    }
   ],
   "source": [
    "import numpy as np\n",
    "\n",
    "a = np.zeros((2,2))   # Create an array of all zeros\n",
    "print(a)              # Prints \"[[ 0.  0.]\n",
    "                      #          [ 0.  0.]]\""
   ]
  },
  {
   "cell_type": "code",
   "execution_count": 6,
   "metadata": {},
   "outputs": [
    {
     "name": "stdout",
     "output_type": "stream",
     "text": [
      "[[1. 1.]]\n"
     ]
    }
   ],
   "source": [
    "b = np.ones((1,2))    # Create an array of all ones\n",
    "print(b)              # Prints \"[[ 1.  1.]]\""
   ]
  },
  {
   "cell_type": "code",
   "execution_count": 6,
   "metadata": {},
   "outputs": [
    {
     "name": "stdout",
     "output_type": "stream",
     "text": [
      "[[7 7]\n",
      " [7 7]]\n"
     ]
    }
   ],
   "source": [
    "c = np.full((2,2), 7)  # Create a constant array\n",
    "print(c)               # Prints \"[[ 7.  7.]\n",
    "                       #          [ 7.  7.]]\""
   ]
  },
  {
   "cell_type": "code",
   "execution_count": 7,
   "metadata": {},
   "outputs": [
    {
     "name": "stdout",
     "output_type": "stream",
     "text": [
      "[[1. 0.]\n",
      " [0. 1.]]\n"
     ]
    }
   ],
   "source": [
    "d = np.eye(2)         # Create a 2x2 identity matrix\n",
    "print(d)              # Prints \"[[ 1.  0.]\n",
    "                      #          [ 0.  1.]]\""
   ]
  },
  {
   "cell_type": "code",
   "execution_count": 8,
   "metadata": {},
   "outputs": [
    {
     "name": "stdout",
     "output_type": "stream",
     "text": [
      "[[0.12498256 0.15894168]\n",
      " [0.43680165 0.75684859]]\n"
     ]
    }
   ],
   "source": [
    "e = np.random.random((2,2))  # Create an array filled with random values\n",
    "print(e)                     # Might print \"[[ 0.91940167  0.08143941]\n",
    "                             #               [ 0.68744134  0.87236687]]\""
   ]
  },
  {
   "cell_type": "markdown",
   "metadata": {
    "id": "Z1vak3DjmM0X"
   },
   "source": [
    "### Array indexing"
   ]
  },
  {
   "cell_type": "markdown",
   "metadata": {
    "id": "oZtpmuWamQeX"
   },
   "source": [
    "To access any element(s) in a numpy array we use index, something similar to Python lists with a difference that for each dimension of array we will have one index. For example extracting the second value of the first dimension of the arr2d would be: `arr2d[0,2]`. "
   ]
  },
  {
   "cell_type": "markdown",
   "metadata": {
    "id": "M1kt-5tUn85u"
   },
   "source": [
    "Example:"
   ]
  },
  {
   "cell_type": "code",
   "execution_count": 9,
   "metadata": {
    "colab": {
     "base_uri": "https://localhost:8080/"
    },
    "id": "Cvtsn1J6n_j6",
    "outputId": "52f19395-f55a-4780-e9ca-56970e6d3bbc",
    "tags": []
   },
   "outputs": [
    {
     "name": "stdout",
     "output_type": "stream",
     "text": [
      "[[7 3]\n",
      " [6 7]]\n"
     ]
    }
   ],
   "source": [
    "import numpy as np\n",
    "\n",
    "# Create the following rank 2 array with shape (3, 4)\n",
    "# [[ 3  7  3  4]\n",
    "#  [ 5  6  7  2]\n",
    "#  [ 2  1  1  1]]\n",
    "a = np.array([[3,7,3,4], [5,6,7,2], [2,1,1,1]])\n",
    "\n",
    "# Use slicing to pull out the subarray consisting of the first 2 rows\n",
    "# and columns 1 and 2; b is the following array of shape (2, 2):\n",
    "\n",
    "b = a[:2, 1:3]\n",
    "# A slice of an array is a view into the same data, so modifying it\n",
    "# will modify the original array.\n",
    "print(b)"
   ]
  },
  {
   "cell_type": "code",
   "execution_count": 10,
   "metadata": {},
   "outputs": [
    {
     "name": "stdout",
     "output_type": "stream",
     "text": [
      "7\n"
     ]
    }
   ],
   "source": [
    "print(a[0, 1])   # Prints \"7\""
   ]
  },
  {
   "cell_type": "code",
   "execution_count": 11,
   "metadata": {},
   "outputs": [
    {
     "name": "stdout",
     "output_type": "stream",
     "text": [
      "3\n"
     ]
    }
   ],
   "source": [
    "b[0, 0] = 3     # b[0, 0] is the same piece of data as a[0, 1]\n",
    "print(a[0, 1])   # Prints \"3\""
   ]
  },
  {
   "cell_type": "code",
   "execution_count": 12,
   "metadata": {},
   "outputs": [
    {
     "name": "stdout",
     "output_type": "stream",
     "text": [
      "[[3 3]\n",
      " [6 7]]\n"
     ]
    }
   ],
   "source": [
    "print(b)"
   ]
  },
  {
   "cell_type": "markdown",
   "metadata": {
    "id": "bVxSnR8kl8Zo"
   },
   "source": [
    "There are many usefull functions in Numpy. Here we mention some of them."
   ]
  },
  {
   "cell_type": "markdown",
   "metadata": {
    "id": "pjgVfk_2oOFK"
   },
   "source": [
    "append, where, add, random, reshape, vstack, mean, median, std, isnan,"
   ]
  },
  {
   "cell_type": "markdown",
   "metadata": {
    "id": "vJ6QncX-oQGg"
   },
   "source": [
    "### Exercises (numpy)"
   ]
  },
  {
   "cell_type": "markdown",
   "metadata": {
    "id": "khxrA6wooSyS"
   },
   "source": [
    "1- Create a 3×3 numpy null array (all the values are zeros)"
   ]
  },
  {
   "cell_type": "code",
   "execution_count": 13,
   "metadata": {
    "executionInfo": {
     "elapsed": 698,
     "status": "ok",
     "timestamp": 1657093736595,
     "user": {
      "displayName": "Fuat Kına",
      "userId": "14133596244219008738"
     },
     "user_tz": -180
    },
    "id": "QeLPEPlT3o55"
   },
   "outputs": [
    {
     "data": {
      "text/plain": [
       "array([[0., 0., 0.],\n",
       "       [0., 0., 0.],\n",
       "       [0., 0., 0.]])"
      ]
     },
     "execution_count": 13,
     "metadata": {},
     "output_type": "execute_result"
    }
   ],
   "source": [
    "np.zeros((3,3))"
   ]
  },
  {
   "cell_type": "markdown",
   "metadata": {
    "id": "kZveceYSoV9W"
   },
   "source": [
    "*2*- Extract all odd numbers from an array \n",
    "\n",
    "hint: input: [0,1,2,3,4,5,6,7] and desired output: [1,3,5,7]"
   ]
  },
  {
   "cell_type": "code",
   "execution_count": null,
   "metadata": {
    "executionInfo": {
     "elapsed": 330,
     "status": "ok",
     "timestamp": 1657093733109,
     "user": {
      "displayName": "Fuat Kına",
      "userId": "14133596244219008738"
     },
     "user_tz": -180
    },
    "id": "BgoRemFS459K"
   },
   "outputs": [],
   "source": [
    "x = np.array([0,1,2,3,4,5,6,7])\n",
    "y = np.array([])\n",
    "\n",
    "for ele in x:\n",
    "    if ele%2!=0:\n",
    "        y = np.append(y, ele)\n",
    "    else:\n",
    "        continue\n",
    "        \n",
    "print(y)"
   ]
  },
  {
   "cell_type": "markdown",
   "metadata": {
    "id": "joH8PWVvpLbY"
   },
   "source": [
    "3- Convert a 1D array to a 2D array with 2 rows\n",
    "\n",
    "hint: input: [0,1,2,3,4,5,6,7], desired output: array([[0,1,2,3], [4,5,6,7]])"
   ]
  },
  {
   "cell_type": "code",
   "execution_count": 7,
   "metadata": {
    "executionInfo": {
     "elapsed": 9,
     "status": "ok",
     "timestamp": 1657093730032,
     "user": {
      "displayName": "Fuat Kına",
      "userId": "14133596244219008738"
     },
     "user_tz": -180
    },
    "id": "SGOrHvPn86i1"
   },
   "outputs": [],
   "source": [
    "x = np.array([0,1,2,3,4,5,6,7,8,9])\n",
    "new_column = int(len(x)/2)"
   ]
  },
  {
   "cell_type": "code",
   "execution_count": 8,
   "metadata": {
    "tags": []
   },
   "outputs": [
    {
     "name": "stdout",
     "output_type": "stream",
     "text": [
      "[[0 1 2 3 4]\n",
      " [5 6 7 8 9]]\n"
     ]
    }
   ],
   "source": [
    "x_revised = x.reshape(2,new_column) # it gives an output, but does not rewrite the object of x\n",
    "print(x_revised)\n",
    "#OR x_revised = np.reshape(x,(2,new_column))"
   ]
  },
  {
   "cell_type": "code",
   "execution_count": 9,
   "metadata": {
    "tags": []
   },
   "outputs": [
    {
     "name": "stdout",
     "output_type": "stream",
     "text": [
      "[[0 1 2 3 4]\n",
      " [5 6 7 8 9]]\n"
     ]
    }
   ],
   "source": [
    "x_revised = np.reshape(x,(2,-1)) # the unspecified value is inferred by the program\n",
    "print(x_revised)"
   ]
  },
  {
   "cell_type": "markdown",
   "metadata": {
    "id": "4Y4bZOo7psbY"
   },
   "source": [
    "4- Stack arrays `first_array` and `second_array` vertically.\n",
    "\n",
    "```\n",
    "first_array = np.arange(10).reshape(2,-1)\n",
    "second_array = np.repeat(1, 10).reshape(2,-1)\n",
    "```"
   ]
  },
  {
   "cell_type": "code",
   "execution_count": 10,
   "metadata": {
    "executionInfo": {
     "elapsed": 381,
     "status": "ok",
     "timestamp": 1657093727518,
     "user": {
      "displayName": "Fuat Kına",
      "userId": "14133596244219008738"
     },
     "user_tz": -180
    },
    "id": "pkOUbP2D9K88"
   },
   "outputs": [
    {
     "name": "stdout",
     "output_type": "stream",
     "text": [
      "[0 1 2 3 4 5 6 7 8 9]\n",
      "(10,)\n"
     ]
    }
   ],
   "source": [
    "first_array = np.arange(10)\n",
    "print(first_array)\n",
    "print(first_array.shape)"
   ]
  },
  {
   "cell_type": "code",
   "execution_count": 11,
   "metadata": {},
   "outputs": [
    {
     "name": "stdout",
     "output_type": "stream",
     "text": [
      "[[0 1 2 3 4]\n",
      " [5 6 7 8 9]]\n",
      "(2, 5)\n"
     ]
    }
   ],
   "source": [
    "first_array = first_array.reshape(2,-1)\n",
    "print(first_array)\n",
    "print(first_array.shape)"
   ]
  },
  {
   "cell_type": "code",
   "execution_count": 12,
   "metadata": {},
   "outputs": [
    {
     "name": "stdout",
     "output_type": "stream",
     "text": [
      "[1 1 1 1 1 1 1 1 1 1]\n",
      "(10,)\n"
     ]
    }
   ],
   "source": [
    "second_array = np.repeat(1, 10)\n",
    "print(second_array)\n",
    "print(second_array.shape)"
   ]
  },
  {
   "cell_type": "code",
   "execution_count": 13,
   "metadata": {},
   "outputs": [
    {
     "name": "stdout",
     "output_type": "stream",
     "text": [
      "[[1 1 1 1 1]\n",
      " [1 1 1 1 1]]\n",
      "(2, 5)\n"
     ]
    }
   ],
   "source": [
    "second_array = second_array.reshape(2,-1)\n",
    "print(second_array)\n",
    "print(second_array.shape)"
   ]
  },
  {
   "cell_type": "code",
   "execution_count": 14,
   "metadata": {},
   "outputs": [
    {
     "name": "stdout",
     "output_type": "stream",
     "text": [
      "[0 1 2 3 4 5 6 7 8 9 1 1 1 1 1 1 1 1 1 1]\n",
      "(20,)\n"
     ]
    }
   ],
   "source": [
    "stack = np.append(first_array, second_array)\n",
    "print(stack)\n",
    "print(stack.shape)"
   ]
  },
  {
   "cell_type": "code",
   "execution_count": 16,
   "metadata": {},
   "outputs": [
    {
     "name": "stdout",
     "output_type": "stream",
     "text": [
      "[[0 1 2 3 4]\n",
      " [5 6 7 8 9]\n",
      " [1 1 1 1 1]\n",
      " [1 1 1 1 1]]\n",
      "(4, 5)\n"
     ]
    }
   ],
   "source": [
    "stack = np.reshape(stack,(4,-1))\n",
    "print(stack)\n",
    "print(stack.shape)"
   ]
  },
  {
   "cell_type": "markdown",
   "metadata": {
    "id": "OgUEFx-Yqnah"
   },
   "source": [
    "5- Get items if they are larger than 5 and smaller than 10, from an array of ```a```.\n",
    "\n",
    "```\n",
    "a = np.arange(0,15,2)\n",
    "```"
   ]
  },
  {
   "cell_type": "code",
   "execution_count": 18,
   "metadata": {},
   "outputs": [
    {
     "data": {
      "text/plain": [
       "array([ 0,  2,  4,  6,  8, 10, 12, 14])"
      ]
     },
     "execution_count": 18,
     "metadata": {},
     "output_type": "execute_result"
    }
   ],
   "source": [
    "a = np.arange(0,15,2)\n",
    "a"
   ]
  },
  {
   "cell_type": "code",
   "execution_count": 19,
   "metadata": {
    "executionInfo": {
     "elapsed": 363,
     "status": "ok",
     "timestamp": 1657093723601,
     "user": {
      "displayName": "Fuat Kına",
      "userId": "14133596244219008738"
     },
     "user_tz": -180
    },
    "id": "Jff4uRae94hQ"
   },
   "outputs": [
    {
     "name": "stdout",
     "output_type": "stream",
     "text": [
      "[6. 8.]\n"
     ]
    }
   ],
   "source": [
    "a = np.arange(0,15,2)\n",
    "b = np.array([])\n",
    "\n",
    "for ele in a:\n",
    "    if ele < 10 and ele > 5:\n",
    "        b = np.append(b,ele)\n",
    "        \n",
    "print(b)"
   ]
  },
  {
   "cell_type": "markdown",
   "metadata": {
    "id": "KoaBySONrqFU"
   },
   "source": [
    "6- Find the mean, median and standard deviation of a."
   ]
  },
  {
   "cell_type": "code",
   "execution_count": 21,
   "metadata": {
    "executionInfo": {
     "elapsed": 4,
     "status": "ok",
     "timestamp": 1657093720479,
     "user": {
      "displayName": "Fuat Kına",
      "userId": "14133596244219008738"
     },
     "user_tz": -180
    },
    "id": "3MPbE8VB-eX1"
   },
   "outputs": [
    {
     "name": "stdout",
     "output_type": "stream",
     "text": [
      "7\n",
      "7.0\n",
      "4\n"
     ]
    }
   ],
   "source": [
    "print(int(np.mean(a)))\n",
    "print(np.median(a))\n",
    "print(int(np.std(a)))"
   ]
  },
  {
   "cell_type": "markdown",
   "metadata": {
    "id": "G2JRKJKKDzuN"
   },
   "source": [
    "7- What are the indices of `a`'s elements, which are more than 0.5. Define these indices in a new variable called `idx`.\n",
    "\n",
    "```\n",
    "a = np.random.rand(1000)\n",
    "```"
   ]
  },
  {
   "cell_type": "code",
   "execution_count": 22,
   "metadata": {
    "executionInfo": {
     "elapsed": 239,
     "status": "ok",
     "timestamp": 1657093715770,
     "user": {
      "displayName": "Fuat Kına",
      "userId": "14133596244219008738"
     },
     "user_tz": -180
    },
    "id": "lFHjJ4lc-1Uv"
   },
   "outputs": [
    {
     "name": "stdout",
     "output_type": "stream",
     "text": [
      "508\n"
     ]
    }
   ],
   "source": [
    "a = np.random.random(1000)\n",
    "idx = np.array([])\n",
    "\n",
    "for i in range(len(a)):\n",
    "    ele = a[i]\n",
    "    if ele > 0.5:\n",
    "        idx = np.append(idx,i)\n",
    "\n",
    "print(len(idx))"
   ]
  },
  {
   "cell_type": "markdown",
   "metadata": {
    "id": "oZ8zKPDZDzuN"
   },
   "source": [
    "8- Reverse a vector (first element becomes last)."
   ]
  },
  {
   "cell_type": "code",
   "execution_count": 29,
   "metadata": {
    "executionInfo": {
     "elapsed": 345,
     "status": "ok",
     "timestamp": 1657093712717,
     "user": {
      "displayName": "Fuat Kına",
      "userId": "14133596244219008738"
     },
     "user_tz": -180
    },
    "id": "tit_6zsy_64o"
   },
   "outputs": [
    {
     "data": {
      "text/plain": [
       "array([7, 6, 5, 4, 3, 2, 1, 0])"
      ]
     },
     "execution_count": 29,
     "metadata": {},
     "output_type": "execute_result"
    }
   ],
   "source": [
    "x = np.array([0, 1, 2, 3, 4, 5, 6, 7])\n",
    "\n",
    "rev = np.flip(x)\n",
    "rev"
   ]
  },
  {
   "cell_type": "code",
   "execution_count": 30,
   "metadata": {},
   "outputs": [
    {
     "data": {
      "text/plain": [
       "array([7, 6, 5, 4, 3, 2, 1, 0])"
      ]
     },
     "execution_count": 30,
     "metadata": {},
     "output_type": "execute_result"
    }
   ],
   "source": [
    "# OR\n",
    "\n",
    "x[::-1]"
   ]
  },
  {
   "cell_type": "markdown",
   "metadata": {
    "id": "B_WZEIT-DzuN"
   },
   "source": [
    "9- Create random vector of size 10 and insert \"0\" before the maximum value."
   ]
  },
  {
   "cell_type": "code",
   "execution_count": 24,
   "metadata": {
    "executionInfo": {
     "elapsed": 268,
     "status": "ok",
     "timestamp": 1657093710323,
     "user": {
      "displayName": "Fuat Kına",
      "userId": "14133596244219008738"
     },
     "user_tz": -180
    },
    "id": "DiJoZ6OfAVb6"
   },
   "outputs": [
    {
     "name": "stdout",
     "output_type": "stream",
     "text": [
      "[0.62465269 0.56111909 0.95053737 0.07028781 0.64175442 0.87509907\n",
      " 0.3769145  0.3715586  0.43291991 0.07700229]\n"
     ]
    }
   ],
   "source": [
    "vector = np.random.rand(10)\n",
    "print(vector)"
   ]
  },
  {
   "cell_type": "code",
   "execution_count": 25,
   "metadata": {},
   "outputs": [
    {
     "name": "stdout",
     "output_type": "stream",
     "text": [
      "2\n"
     ]
    }
   ],
   "source": [
    "print(np.argmax(vector))"
   ]
  },
  {
   "cell_type": "code",
   "execution_count": 26,
   "metadata": {},
   "outputs": [
    {
     "name": "stdout",
     "output_type": "stream",
     "text": [
      "[0.62465269 0.56111909 0.         0.95053737 0.07028781 0.64175442\n",
      " 0.87509907 0.3769145  0.3715586  0.43291991 0.07700229]\n"
     ]
    }
   ],
   "source": [
    "vector_rev = np.insert(vector, np.argmax(vector), 0)\n",
    "print(vector_rev)"
   ]
  },
  {
   "cell_type": "code",
   "execution_count": 39,
   "metadata": {},
   "outputs": [
    {
     "name": "stdout",
     "output_type": "stream",
     "text": [
      "[0.3433231  0.87348361 0.06547102 0.73121099 0.49686352 0.4972706\n",
      " 0.68663382 0.20666976 0.68473777 0.         0.95315005]\n"
     ]
    }
   ],
   "source": [
    "vector_rev2=np.insert(vector,np.argmax(vector),0)\n",
    "print(vector_rev2)"
   ]
  },
  {
   "cell_type": "markdown",
   "metadata": {
    "id": "aeTjuLwVDzuN"
   },
   "source": [
    "10- Subtract the mean of each row of a matrix."
   ]
  },
  {
   "cell_type": "code",
   "execution_count": 28,
   "metadata": {
    "executionInfo": {
     "elapsed": 245,
     "status": "ok",
     "timestamp": 1657093705075,
     "user": {
      "displayName": "Fuat Kına",
      "userId": "14133596244219008738"
     },
     "user_tz": -180
    },
    "id": "aNoCG85bOMmF"
   },
   "outputs": [
    {
     "name": "stdout",
     "output_type": "stream",
     "text": [
      "[[0.62465269 0.56111909 0.95053737 0.07028781 0.64175442]\n",
      " [0.87509907 0.3769145  0.3715586  0.43291991 0.07700229]]\n"
     ]
    }
   ],
   "source": [
    "x = np.reshape(vector,(2,5))\n",
    "print(x)"
   ]
  },
  {
   "cell_type": "code",
   "execution_count": 29,
   "metadata": {},
   "outputs": [
    {
     "name": "stdout",
     "output_type": "stream",
     "text": [
      "0.49818457550897294\n",
      "[0.56967028 0.42669888]\n"
     ]
    }
   ],
   "source": [
    "mean = np.mean(x) #second argument of mean function present the axis rows = 1, columns = 0 always \n",
    "print(mean)\n",
    "\n",
    "row_means = np.mean(x, axis=1) #second argument of mean function present the axis rows = 1, columns = 0 always \n",
    "print(row_means)"
   ]
  },
  {
   "cell_type": "code",
   "execution_count": 30,
   "metadata": {},
   "outputs": [
    {
     "name": "stdout",
     "output_type": "stream",
     "text": [
      "[0.74987588 0.46901679 0.66104799 0.25160386 0.35937836]\n"
     ]
    }
   ],
   "source": [
    "column_means = np.mean(x, axis = 0)\n",
    "print(column_means)"
   ]
  },
  {
   "cell_type": "code",
   "execution_count": 31,
   "metadata": {},
   "outputs": [
    {
     "data": {
      "text/plain": [
       "array([0.56967028, 0.42669888])"
      ]
     },
     "execution_count": 31,
     "metadata": {},
     "output_type": "execute_result"
    }
   ],
   "source": [
    "row_means = np.mean(x, axis = 1)\n",
    "row_means"
   ]
  },
  {
   "cell_type": "code",
   "execution_count": 32,
   "metadata": {},
   "outputs": [
    {
     "data": {
      "text/plain": [
       "(10,)"
      ]
     },
     "execution_count": 32,
     "metadata": {},
     "output_type": "execute_result"
    }
   ],
   "source": [
    "np.repeat(row_means, 5).shape"
   ]
  },
  {
   "cell_type": "code",
   "execution_count": 52,
   "metadata": {},
   "outputs": [
    {
     "data": {
      "text/plain": [
       "array([[0.50207045, 0.50207045, 0.50207045, 0.50207045, 0.50207045],\n",
       "       [0.6056924 , 0.6056924 , 0.6056924 , 0.6056924 , 0.6056924 ]])"
      ]
     },
     "execution_count": 52,
     "metadata": {},
     "output_type": "execute_result"
    }
   ],
   "source": [
    "row_means_array = np.repeat(row_means, 5).reshape(2,5)\n",
    "row_means_array"
   ]
  },
  {
   "cell_type": "code",
   "execution_count": 53,
   "metadata": {},
   "outputs": [
    {
     "name": "stdout",
     "output_type": "stream",
     "text": [
      "[[-0.15874735  0.37141316 -0.43659943  0.22914054 -0.00520693]\n",
      " [-0.1084218   0.08094142 -0.39902264  0.07904537  0.34745765]]\n"
     ]
    }
   ],
   "source": [
    "final = x - row_means_array\n",
    "print(final)"
   ]
  },
  {
   "cell_type": "markdown",
   "metadata": {},
   "source": [
    "How does repeat function work?"
   ]
  },
  {
   "cell_type": "code",
   "execution_count": 54,
   "metadata": {},
   "outputs": [
    {
     "name": "stdout",
     "output_type": "stream",
     "text": [
      "[3 3 3 3]\n",
      "[[1 2]\n",
      " [3 4]]\n",
      "[1 1 2 2 3 3 4 4]\n",
      "[[1 2]\n",
      " [1 2]\n",
      " [1 2]\n",
      " [3 4]\n",
      " [3 4]\n",
      " [3 4]]\n",
      "[[1 1 1 2 2 2]\n",
      " [3 3 3 4 4 4]]\n",
      "[[1 2]\n",
      " [3 4]\n",
      " [3 4]]\n"
     ]
    }
   ],
   "source": [
    "print(np.repeat(3, 4))\n",
    "x = np.array([[1,2],[3,4]])\n",
    "print(x)\n",
    "print(np.repeat(x, 2))\n",
    "print(np.repeat(x, 3, axis=0))\n",
    "print(np.repeat(x, 3, axis=1)\n",
    "print(np.repeat(x, [1, 2], axis=0))"
   ]
  },
  {
   "cell_type": "markdown",
   "metadata": {
    "id": "Lp40FFAXDzuN"
   },
   "source": [
    "11- Based on worldometers.info website, the world population on 17th of February 2019 at 11:00 am is ~7684621550 and the average growth rate per day is ~107000. \n",
    "```\n",
    "# World population\n",
    "world_pop = 7684621550\n",
    "# average growth rate per day\n",
    "growth_rate = 107000\n",
    "```\n",
    "Create an array (call it: `world_pop_arr`) which shows the world population from 17th of February until 26th of February. Now create a dictionary with all these information and save the dictionary into a file using `numpy.save`.\n"
   ]
  },
  {
   "cell_type": "code",
   "execution_count": 39,
   "metadata": {
    "executionInfo": {
     "elapsed": 310,
     "status": "ok",
     "timestamp": 1657093699852,
     "user": {
      "displayName": "Fuat Kına",
      "userId": "14133596244219008738"
     },
     "user_tz": -180
    },
    "id": "V6LpLjadRSx2"
   },
   "outputs": [
    {
     "name": "stdout",
     "output_type": "stream",
     "text": [
      "10\n",
      "10\n"
     ]
    }
   ],
   "source": [
    "import numpy as np\n",
    "\n",
    "day_of_month=17\n",
    "\n",
    "total_day=26-17\n",
    "\n",
    "world_pop = 7684621550\n",
    "\n",
    "growth_rate = 107000\n",
    "\n",
    "world_pop_arr=np.array([world_pop])\n",
    "\n",
    "day_arr=np.array([day_of_month])\n",
    "\n",
    "for i in range(total_day):\n",
    "    world_pop = growth_rate + world_pop\n",
    "    world_pop_arr = np.append(world_pop_arr, world_pop)\n",
    "\n",
    "for i in range(total_day):\n",
    "    day_of_month = day_of_month + 1\n",
    "    day_arr=np.append(day_arr, day_of_month)\n",
    "\n",
    "print(len(world_pop_arr))\n",
    "print(len(day_arr))"
   ]
  },
  {
   "cell_type": "code",
   "execution_count": 47,
   "metadata": {
    "tags": []
   },
   "outputs": [
    {
     "data": {
      "text/plain": [
       "array([[        17, 7684621550],\n",
       "       [        18, 7684728550],\n",
       "       [        19, 7684835550],\n",
       "       [        20, 7684942550],\n",
       "       [        21, 7685049550],\n",
       "       [        22, 7685156550],\n",
       "       [        23, 7685263550],\n",
       "       [        24, 7685370550],\n",
       "       [        25, 7685477550],\n",
       "       [        26, 7685584550]], dtype=int64)"
      ]
     },
     "execution_count": 47,
     "metadata": {},
     "output_type": "execute_result"
    }
   ],
   "source": [
    "np.array([day_arr, world_pop_arr]).T"
   ]
  },
  {
   "cell_type": "code",
   "execution_count": 40,
   "metadata": {},
   "outputs": [
    {
     "name": "stdout",
     "output_type": "stream",
     "text": [
      "{17: 7684621550, 18: 7684728550, 19: 7684835550, 20: 7684942550, 21: 7685049550, 22: 7685156550, 23: 7685263550, 24: 7685370550, 25: 7685477550, 26: 7685584550}\n"
     ]
    }
   ],
   "source": [
    "my_dict=dict(zip(day_arr, world_pop_arr)) \n",
    "\n",
    "print(my_dict)\n",
    "\n",
    "np.save(\"example_dictionary.npy\", my_dict)"
   ]
  },
  {
   "cell_type": "markdown",
   "metadata": {},
   "source": [
    "###### Not: the zip() function returns a zip object, which is an iterator of tuples where the first item in each passed iterator is paired together, and then the second item in each passed iterator are paired together etc."
   ]
  },
  {
   "cell_type": "markdown",
   "metadata": {
    "id": "5-DPDMibDzuN"
   },
   "source": [
    "12- Write a _time_resolved function_ for an arbitrary array and an arbitrary step (or window size) that you define."
   ]
  },
  {
   "cell_type": "markdown",
   "metadata": {},
   "source": [
    "The function will take three objects as inputs:\n",
    "`time_resolved(arr, w_size, shift)`\n",
    "\n",
    "When I ask python to print `time_resolved(arr,3,4)` for `arr=np.array([1,2,6,4,5,4,2,7,8,9])`,\n",
    "I expect to see `[4, 5, 4]` as the output of this function."
   ]
  },
  {
   "cell_type": "code",
   "execution_count": 63,
   "metadata": {
    "executionInfo": {
     "elapsed": 283,
     "status": "ok",
     "timestamp": 1657093694107,
     "user": {
      "displayName": "Fuat Kına",
      "userId": "14133596244219008738"
     },
     "user_tz": -180
    },
    "id": "A7EZnFEzgeXT"
   },
   "outputs": [
    {
     "name": "stdout",
     "output_type": "stream",
     "text": [
      "[4. 5. 4.]\n"
     ]
    }
   ],
   "source": [
    "def time_resolved(arr, w_size, shift):\n",
    "    subarr = np.array([])\n",
    "    for i in range(shift-1, w_size + shift - 1):\n",
    "        subarr = np.append(subarr,arr[i])\n",
    "    return subarr\n",
    "\n",
    "arr=np.array([1,2,6,4,5,4,2,7,8,9])\n",
    "print(time_resolved(arr,3,4))"
   ]
  },
  {
   "cell_type": "markdown",
   "metadata": {
    "id": "qJLrJFseWDVh"
   },
   "source": [
    "## Matplotlib"
   ]
  },
  {
   "cell_type": "markdown",
   "metadata": {
    "id": "zj_m17tLW9ev"
   },
   "source": [
    "Visualization is one of the most important segments of data analysis. It allows us visual access to huge amounts of data in a simple and powerful way. The core library in Python used for visualization is matplotlib. Matplotlib development started with the idea of emulating Matlab commands in Python. By importing the following module,\n",
    "```\n",
    "import matplotlib.pyplot as plt\n",
    "```\n",
    "one will have access to many functions which are similar to Matlab function for plotting. Let's create some simple plots to learn the important syntaxes."
   ]
  },
  {
   "cell_type": "code",
   "execution_count": 49,
   "metadata": {
    "colab": {
     "base_uri": "https://localhost:8080/",
     "height": 297
    },
    "id": "kaGlR2GEZyAL",
    "outputId": "ae18e656-0bd7-4de4-acbf-aa352160a753"
   },
   "outputs": [
    {
     "data": {
      "image/png": "[encoded data removed]",
      "text/plain": [
       "<Figure size 640x480 with 1 Axes>"
      ]
     },
     "metadata": {},
     "output_type": "display_data"
    }
   ],
   "source": [
    "import matplotlib.pyplot as plt \n",
    "\n",
    "# data to be plotted\n",
    "X = [1,2,3,4]\n",
    "Y = [10,22,30,40]\n",
    "\n",
    "# plot \n",
    "plt.plot(X, Y, 'r-*')\n",
    "# define xlabel\n",
    "plt.xlabel('X label')\n",
    "# define ylabel\n",
    "plt.ylabel('Y label')\n",
    "# show the plotted figure\n",
    "plt.show()"
   ]
  },
  {
   "cell_type": "markdown",
   "metadata": {
    "id": "k0cjiFFea8OJ"
   },
   "source": [
    "Check the following code and the produced figures. Can you tell what each line of code is doing? "
   ]
  },
  {
   "cell_type": "code",
   "execution_count": 52,
   "metadata": {
    "colab": {
     "base_uri": "https://localhost:8080/",
     "height": 300
    },
    "id": "z7WaNnacaytl",
    "outputId": "2b09afd7-11bd-4ef8-edc4-77eb2e5816a6"
   },
   "outputs": [
    {
     "data": {
      "image/png": "[encoded data removed]",
      "text/plain": [
       "<Figure size 640x480 with 1 Axes>"
      ]
     },
     "metadata": {},
     "output_type": "display_data"
    }
   ],
   "source": [
    "import numpy as np\n",
    "import matplotlib.pyplot as plt\n",
    "\n",
    "# evenly sampled time at 200ms intervals\n",
    "t = np.arange(0, 5, 0.2)\n",
    "\n",
    "# red dashes, blue squares and green triangles\n",
    "plt.plot(t, t, 'r', label='line one', linewidth=5)\n",
    "plt.plot(t, t**2, 'b--^',label='line two', linewidth=2)\n",
    "plt.plot(t,t**3, 'g-o', label='marker', markersize = 4)\n",
    "plt.legend()\n",
    "plt.grid(True, color='k')\n",
    "plt.show()"
   ]
  },
  {
   "cell_type": "code",
   "execution_count": 54,
   "metadata": {
    "colab": {
     "base_uri": "https://localhost:8080/",
     "height": 376
    },
    "id": "g7GUwfxIccxn",
    "outputId": "f5d4d6ed-2f17-4cbb-bd6e-2c6b92d2e6e2"
   },
   "outputs": [
    {
     "data": {
      "image/png": "[encoded data removed]",
      "text/plain": [
       "<Figure size 640x480 with 1 Axes>"
      ]
     },
     "metadata": {},
     "output_type": "display_data"
    }
   ],
   "source": [
    "import matplotlib.pyplot as plt\n",
    "population_age = [22,55,62,45,21,22,34,42,42,4,2,102,95,85,55,110,120,70,65,55,111,115,80,75,65,54,44,43,42,48]\n",
    "bins = [0,10,20,30,40,50,60,70,80,90,100]\n",
    "plt.hist(population_age, bins, histtype='bar', rwidth=1)\n",
    "plt.xlabel('age groups')\n",
    "plt.ylabel('Number of people')\n",
    "plt.title('Histogram')\n",
    "plt.show()"
   ]
  },
  {
   "cell_type": "markdown",
   "metadata": {
    "id": "ZNzGhKI0ce1o"
   },
   "source": [
    "What you tried to do with the last two figures is the best way of learning matplotlib syntaxes and produces whatever figure you like. Probably you did the following: Checking the figure axes, colors, lines, labels, bars, etc and trying to figure out the line in the code responsible for that feature. This is a very efficient way to create figures and add whatever details you like. One of the best collections for these examples can be found at the following link:\n",
    "\n",
    "[https://matplotlib.org/gallery.html](https://matplotlib.org/gallery.html )\n",
    "\n",
    "Click on the link and find the figure you are interested in and check the code for that figure.\n",
    "\n",
    "As a good exercise try to find out how one can plot multiple subplots in one plot?\n"
   ]
  },
  {
   "cell_type": "markdown",
   "metadata": {
    "id": "yBxEwwDutA65"
   },
   "source": [
    "### Exercises (matplotlib)"
   ]
  },
  {
   "cell_type": "markdown",
   "metadata": {
    "id": "EfGLmmLftDyD"
   },
   "source": [
    "1- Plot two or more lines with legends, different widths and colors."
   ]
  },
  {
   "cell_type": "code",
   "execution_count": 56,
   "metadata": {
    "executionInfo": {
     "elapsed": 266,
     "status": "ok",
     "timestamp": 1657093674395,
     "user": {
      "displayName": "Fuat Kına",
      "userId": "14133596244219008738"
     },
     "user_tz": -180
    },
    "id": "Fr76zhy0ZfRZ"
   },
   "outputs": [
    {
     "data": {
      "text/plain": [
       "<function matplotlib.pyplot.show(close=None, block=None)>"
      ]
     },
     "execution_count": 56,
     "metadata": {},
     "output_type": "execute_result"
    },
    {
     "data": {
      "image/png": "[encoded data removed]",
      "text/plain": [
       "<Figure size 640x480 with 1 Axes>"
      ]
     },
     "metadata": {},
     "output_type": "display_data"
    }
   ],
   "source": [
    "import matplotlib.pyplot as plt \n",
    "\n",
    "# data to be plotted\n",
    "X = [1,2,3,4]\n",
    "Y = [10,22,30,40]\n",
    "Z = [3,5,7,9]\n",
    "Q = [3,15,27,39]\n",
    "\n",
    "plt.plot(X, Y, 'r-o', label=\"Y\", linewidth=2)\n",
    "plt.plot(X, Z, 'k-1', label=\"Z\", linewidth=1)\n",
    "plt.plot(X, Q, 'g-+', label=\"Q\", linewidth=1)\n",
    "# define xlabel\n",
    "plt.xlabel('X label',)\n",
    "# define ylabel\n",
    "plt.ylabel('Y label')\n",
    "\n",
    "plt.legend()\n",
    "\n",
    "plt.show"
   ]
  },
  {
   "cell_type": "markdown",
   "metadata": {
    "id": "o5oJ01hbJ41p"
   },
   "source": [
    "2- Plot two or more lines with different styles."
   ]
  },
  {
   "cell_type": "code",
   "execution_count": null,
   "metadata": {
    "id": "T5GoUJv4bc8u"
   },
   "outputs": [],
   "source": []
  },
  {
   "cell_type": "markdown",
   "metadata": {
    "id": "aPlCltQhDzuP"
   },
   "source": [
    "3- Choose one of your favorite plots from matplotlib gallery"
   ]
  },
  {
   "cell_type": "code",
   "execution_count": null,
   "metadata": {
    "id": "DLqAB2W7bfzN"
   },
   "outputs": [],
   "source": []
  },
  {
   "cell_type": "markdown",
   "metadata": {
    "id": "q4K7S1SKDzuP"
   },
   "source": [
    "4- Generate random values from 0 to 1000 and plot these values. For the color of the plot, choose blue color for the values below 500 and red for those above 500."
   ]
  },
  {
   "cell_type": "code",
   "execution_count": 3,
   "metadata": {
    "executionInfo": {
     "elapsed": 12,
     "status": "ok",
     "timestamp": 1657093667155,
     "user": {
      "displayName": "Fuat Kına",
      "userId": "14133596244219008738"
     },
     "user_tz": -180
    },
    "id": "lmHAqf5VcUT1"
   },
   "outputs": [
    {
     "data": {
      "text/plain": [
       "array([563, 153,  77, 681, 281, 868, 917, 780,   8, 494, 886, 157, 584,\n",
       "       984, 261, 897, 425, 828, 414, 524, 785, 125, 537,  32, 672, 914,\n",
       "       267, 130,  40, 142, 805, 347, 689, 835, 686, 749, 164, 847, 391,\n",
       "       327,  69,  26, 873, 171, 908, 658, 787, 540, 656, 152])"
      ]
     },
     "execution_count": 3,
     "metadata": {},
     "output_type": "execute_result"
    }
   ],
   "source": [
    "import numpy as np\n",
    "\n",
    "data=np.random.randint(0,1000,50)\n",
    "data"
   ]
  },
  {
   "cell_type": "markdown",
   "metadata": {
    "id": "IowaKFfUDzuP"
   },
   "source": [
    "5- For the random values generated in the exercise 4, create a new plot where you put a marker or a dot wherever the value is above 800."
   ]
  },
  {
   "cell_type": "code",
   "execution_count": null,
   "metadata": {},
   "outputs": [],
   "source": []
  },
  {
   "cell_type": "markdown",
   "metadata": {
    "id": "-1S3cD0dDzuP"
   },
   "source": [
    "6- For the random values generated in exercise 4, create a histogram (in a new plot) with appropriate bin size."
   ]
  },
  {
   "cell_type": "code",
   "execution_count": null,
   "metadata": {},
   "outputs": [],
   "source": []
  },
  {
   "cell_type": "markdown",
   "metadata": {
    "id": "PY0dA5cFDzuQ"
   },
   "source": [
    "7- Now apply the _time_resolved analysis_ function that you wrote during numpy exercise on the data from exercise 4 and plot it in a new plot."
   ]
  },
  {
   "cell_type": "code",
   "execution_count": 13,
   "metadata": {
    "executionInfo": {
     "elapsed": 12,
     "status": "ok",
     "timestamp": 1657093667154,
     "user": {
      "displayName": "Fuat Kına",
      "userId": "14133596244219008738"
     },
     "user_tz": -180
    },
    "id": "3mJlf0PR5X_G"
   },
   "outputs": [
    {
     "name": "stdout",
     "output_type": "stream",
     "text": [
      "[ 74 683 318 722 423 620 909 689 505 525 355 562 838 153 924 803 545 648\n",
      " 108  81 642 516 194 102 889 534  21 802 608 207  43 211 154 180 756 595\n",
      "  83 145 972  30 929 658 157 388 889 631 174  38 260 659]\n",
      "[ 1  2  3  4  5  6  7  8  9 10 11 12 13 14 15 16 17 18 19 20 21 22 23 24\n",
      " 25 26 27 28 29 30 31 32 33 34 35 36 37 38 39 40 41 42 43 44 45 46 47 48\n",
      " 49 50]\n",
      "[525. 355. 562. 838. 153. 924. 803. 545. 648. 108.  81. 642. 516. 194.\n",
      " 102. 889. 534.  21. 802. 608.]\n"
     ]
    },
    {
     "data": {
      "text/plain": [
       "<function matplotlib.pyplot.show(close=None, block=None)>"
      ]
     },
     "execution_count": 13,
     "metadata": {},
     "output_type": "execute_result"
    },
    {
     "data": {
      "image/png": "[encoded data removed]",
      "text/plain": [
       "<Figure size 640x480 with 1 Axes>"
      ]
     },
     "metadata": {},
     "output_type": "display_data"
    }
   ],
   "source": [
    "import matplotlib.pyplot as plt \n",
    "\n",
    "rand_val=np.random.randint(0,1000,50)\n",
    "print(rand_val)\n",
    "nr=np.arange(1,51)\n",
    "print(nr)\n",
    "plt.plot(nr, rand_val, 'r')\n",
    "\n",
    "def time_resolved(arr,w_size,shift):\n",
    "    sub_arr=np.array([])\n",
    "    for i in range(shift-1,shift+w_size-1):\n",
    "        sub_arr=np.append(sub_arr,arr[i])\n",
    "    return sub_arr\n",
    "\n",
    "sub_arr = time_resolved(rand_val,20,10)\n",
    "nr2=np.arange(10,30)\n",
    "\n",
    "print(sub_arr)\n",
    "plt.plot(nr2,sub_arr,'b')\n",
    "plt.show"
   ]
  },
  {
   "cell_type": "markdown",
   "metadata": {
    "id": "rNAwbkytDzuQ"
   },
   "source": [
    "8- Now put the plots from exercise 4 to 7 in one plot by using `plt.subplot`."
   ]
  },
  {
   "cell_type": "code",
   "execution_count": null,
   "metadata": {
    "id": "yLSFgv_kDzuQ"
   },
   "outputs": [],
   "source": []
  }
 ],
 "metadata": {
  "colab": {
   "collapsed_sections": [],
   "name": "Numpy and Matplotit.ipynb",
   "provenance": [
    {
     "file_id": "1Sv683Nckm7EdDBgIkWEYnBa5W-IxAAS5",
     "timestamp": 1657093636361
    }
   ]
  },
  "kernelspec": {
   "display_name": "Python 3 (ipykernel)",
   "language": "python",
   "name": "python3"
  },
  "language_info": {
   "codemirror_mode": {
    "name": "ipython",
    "version": 3
   },
   "file_extension": ".py",
   "mimetype": "text/x-python",
   "name": "python",
   "nbconvert_exporter": "python",
   "pygments_lexer": "ipython3",
   "version": "3.11.5"
  }
 },
 "nbformat": 4,
 "nbformat_minor": 4
}

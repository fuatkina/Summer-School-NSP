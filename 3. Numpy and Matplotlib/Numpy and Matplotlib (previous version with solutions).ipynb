{
 "cells": [
  {
   "cell_type": "markdown",
   "metadata": {
    "id": "TXQNWNPeDzuF"
   },
   "source": [
    "# Introduction to Scientific Programming in Python - 2"
   ]
  },
  {
   "cell_type": "markdown",
   "metadata": {
    "id": "bVxSnR8kl8Zo"
   },
   "source": [
    "There are many usefull functions in Numpy. Here we mention some of them."
   ]
  },
  {
   "cell_type": "markdown",
   "metadata": {
    "id": "pjgVfk_2oOFK"
   },
   "source": [
    "where, add, random, reshape, vstack, mean, median, std, isnan,"
   ]
  },
  {
   "cell_type": "markdown",
   "metadata": {
    "id": "vJ6QncX-oQGg"
   },
   "source": [
    "### Exercises (numpy)"
   ]
  },
  {
   "cell_type": "markdown",
   "metadata": {
    "id": "khxrA6wooSyS"
   },
   "source": [
    "1- Create a 3×3 numpy null array (all the values are zeros)"
   ]
  },
  {
   "cell_type": "code",
   "execution_count": 2,
   "metadata": {},
   "outputs": [],
   "source": [
    "import numpy as np"
   ]
  },
  {
   "cell_type": "code",
   "execution_count": null,
   "metadata": {
    "colab": {
     "base_uri": "https://localhost:8080/"
    },
    "id": "QeLPEPlT3o55",
    "outputId": "16885e64-840a-4ac9-c7a1-4b5347307943"
   },
   "outputs": [
    {
     "data": {
      "text/plain": [
       "array([[0., 0., 0.],\n",
       "       [0., 0., 0.],\n",
       "       [0., 0., 0.]])"
      ]
     },
     "execution_count": 9,
     "metadata": {},
     "output_type": "execute_result"
    }
   ],
   "source": [
    "a=np.zeros((3,3))\n",
    "a"
   ]
  },
  {
   "cell_type": "markdown",
   "metadata": {
    "id": "kZveceYSoV9W"
   },
   "source": [
    "*2*- Extract all odd numbers from an array \n",
    "\n",
    "hint: input: [0,1,2,3,4,5,6,7] and desired output: [1,3,5,7]"
   ]
  },
  {
   "cell_type": "code",
   "execution_count": 4,
   "metadata": {
    "colab": {
     "base_uri": "https://localhost:8080/"
    },
    "id": "BgoRemFS459K",
    "outputId": "79be0e6f-958b-4077-c104-d86247a00225"
   },
   "outputs": [
    {
     "data": {
      "text/plain": [
       "array([1., 3., 5., 7.])"
      ]
     },
     "execution_count": 4,
     "metadata": {},
     "output_type": "execute_result"
    }
   ],
   "source": [
    "x=np.array([0,1,2,3,4,5,6,7])\n",
    "y=np.array([])\n",
    "for i in range(len(x)):\n",
    "    ele=x[i]\n",
    "    if ele%2!=0:\n",
    "        y=np.append(y,ele)\n",
    "y"
   ]
  },
  {
   "cell_type": "markdown",
   "metadata": {
    "id": "joH8PWVvpLbY"
   },
   "source": [
    "3- Convert a 1D array to a 2D array with 2 rows\n",
    "\n",
    "hint: input: [0,1,2,3,4,5,6,7], desired output: array([[0,1,2,3], [4,5,6,7]])"
   ]
  },
  {
   "cell_type": "code",
   "execution_count": null,
   "metadata": {
    "colab": {
     "base_uri": "https://localhost:8080/"
    },
    "id": "SGOrHvPn86i1",
    "outputId": "6b14d6e4-fced-439b-c90b-b79b21a4c664"
   },
   "outputs": [
    {
     "data": {
      "text/plain": [
       "array([[0, 1, 2, 3],\n",
       "       [4, 5, 6, 7]])"
      ]
     },
     "execution_count": 26,
     "metadata": {},
     "output_type": "execute_result"
    }
   ],
   "source": [
    "x=np.array([0,1,2,3,4,5,6,7])\n",
    "x=np.reshape(x,(2,4))\n",
    "x"
   ]
  },
  {
   "cell_type": "markdown",
   "metadata": {
    "id": "4Y4bZOo7psbY"
   },
   "source": [
    "4- Stack arrays `a` and `b` vertically.\n",
    "```\n",
    "a = np.arange(10).reshape(2,-1)\n",
    "b = np.repeat(1, 10).reshape(2,-1)\n",
    "```"
   ]
  },
  {
   "cell_type": "code",
   "execution_count": null,
   "metadata": {
    "colab": {
     "base_uri": "https://localhost:8080/"
    },
    "id": "pkOUbP2D9K88",
    "outputId": "3ad70b59-9450-4572-9417-03c30c5a18d2"
   },
   "outputs": [
    {
     "data": {
      "text/plain": [
       "array([[0, 1, 2, 3, 4],\n",
       "       [5, 6, 7, 8, 9],\n",
       "       [1, 1, 1, 1, 1],\n",
       "       [1, 1, 1, 1, 1]])"
      ]
     },
     "execution_count": 38,
     "metadata": {},
     "output_type": "execute_result"
    }
   ],
   "source": [
    "a = np.arange(10).reshape(2,-1)\n",
    "b = np.repeat(1, 10).reshape(2,-1)\n",
    "total=np.reshape(np.append(a,b),(4,5))\n",
    "total"
   ]
  },
  {
   "cell_type": "markdown",
   "metadata": {
    "id": "OgUEFx-Yqnah"
   },
   "source": [
    "5- Get all items between 5 and 10 from a.\n",
    "\n",
    "```\n",
    "a = np.arange(0,15,2)\n",
    "```"
   ]
  },
  {
   "cell_type": "code",
   "execution_count": null,
   "metadata": {
    "colab": {
     "base_uri": "https://localhost:8080/"
    },
    "id": "Jff4uRae94hQ",
    "outputId": "5b1f0b4e-13f3-45f0-8ca9-b342d69c4af2"
   },
   "outputs": [
    {
     "name": "stdout",
     "output_type": "stream",
     "text": [
      "[ 0  2  4  6  8 10 12 14]\n"
     ]
    },
    {
     "data": {
      "text/plain": [
       "array([6., 8.])"
      ]
     },
     "execution_count": 43,
     "metadata": {},
     "output_type": "execute_result"
    }
   ],
   "source": [
    "a = np.arange(0,15,2)\n",
    "print(a)\n",
    "y=np.array([])\n",
    "for i in range(len(a)):\n",
    "    ele=a[i]\n",
    "    if ele<10 and ele>5:\n",
    "    y=np.append(y,ele)\n",
    "y"
   ]
  },
  {
   "cell_type": "markdown",
   "metadata": {
    "id": "KoaBySONrqFU"
   },
   "source": [
    "6- Find the mean, median and standard deviation of a."
   ]
  },
  {
   "cell_type": "code",
   "execution_count": null,
   "metadata": {
    "colab": {
     "base_uri": "https://localhost:8080/"
    },
    "id": "3MPbE8VB-eX1",
    "outputId": "b0f95fe6-3179-4eb6-e59f-8e66b528763f"
   },
   "outputs": [
    {
     "name": "stdout",
     "output_type": "stream",
     "text": [
      "0.49636561356206066\n",
      "0.49687473078236055\n",
      "0.2903575858300013\n"
     ]
    }
   ],
   "source": [
    "a = np.random.rand(1000)\n",
    "\n",
    "print(np.mean(a))\n",
    "print(np.median(a))\n",
    "print(np.std(a))"
   ]
  },
  {
   "cell_type": "markdown",
   "metadata": {
    "id": "4Vm4dynZrv3f"
   },
   "source": [
    "```\n",
    "a = np.random.rand(1000)\n",
    "```"
   ]
  },
  {
   "cell_type": "markdown",
   "metadata": {
    "id": "G2JRKJKKDzuN"
   },
   "source": [
    "\\7- Whare are the indices of `a` (in exercise 6) which are more than 0.5. Define these indices in a new variable called `idx`."
   ]
  },
  {
   "cell_type": "code",
   "execution_count": null,
   "metadata": {
    "id": "lFHjJ4lc-1Uv"
   },
   "outputs": [],
   "source": [
    "a = np.random.rand(1000)\n",
    "\n",
    "y=np.array([])\n",
    "\n",
    "for i in range(len(a)):\n",
    "    ele=a[i]\n",
    "    if ele > 0.5:\n",
    "        y=np.append(y,i)"
   ]
  },
  {
   "cell_type": "markdown",
   "metadata": {
    "id": "oZ8zKPDZDzuN"
   },
   "source": [
    "8- Reverse a vector (first element becomes last)."
   ]
  },
  {
   "cell_type": "code",
   "execution_count": null,
   "metadata": {
    "colab": {
     "base_uri": "https://localhost:8080/"
    },
    "id": "tit_6zsy_64o",
    "outputId": "e5cb9523-c3c3-46e8-a0b6-9e15073e6691"
   },
   "outputs": [
    {
     "data": {
      "text/plain": [
       "array([[7, 6, 5, 4],\n",
       "       [3, 2, 1, 0]])"
      ]
     },
     "execution_count": 53,
     "metadata": {},
     "output_type": "execute_result"
    }
   ],
   "source": [
    "rev=np.flip(x)\n",
    "rev"
   ]
  },
  {
   "cell_type": "markdown",
   "metadata": {
    "id": "B_WZEIT-DzuN"
   },
   "source": [
    "9- Create random vector of size 10 and replace the maximum value by 0."
   ]
  },
  {
   "cell_type": "code",
   "execution_count": null,
   "metadata": {
    "colab": {
     "base_uri": "https://localhost:8080/"
    },
    "id": "DiJoZ6OfAVb6",
    "outputId": "1d70b634-e027-4538-b72d-7e32892a2907"
   },
   "outputs": [
    {
     "name": "stdout",
     "output_type": "stream",
     "text": [
      "[0.21981951 0.23264663 0.3197222  0.02564379 0.09343378 0.65357819\n",
      " 0.6228442  0.15791086 0.86294491 0.10473987]\n",
      "[0.21981951 0.23264663 0.3197222  0.02564379 0.09343378 0.65357819\n",
      " 0.6228442  0.15791086 0.         0.86294491 0.10473987]\n"
     ]
    }
   ],
   "source": [
    "r=np.random.rand(10)\n",
    "r_rev=np.insert(r,np.argmax(r),0)\n",
    "print(r)\n",
    "print(r_rev)"
   ]
  },
  {
   "cell_type": "markdown",
   "metadata": {
    "id": "aeTjuLwVDzuN"
   },
   "source": [
    "10- Subtract the mean of each row of a matrix."
   ]
  },
  {
   "cell_type": "code",
   "execution_count": null,
   "metadata": {
    "colab": {
     "base_uri": "https://localhost:8080/"
    },
    "id": "aNoCG85bOMmF",
    "outputId": "036d94ae-8a14-449d-ee59-fc0f9b5e28a9"
   },
   "outputs": [
    {
     "name": "stdout",
     "output_type": "stream",
     "text": [
      "[[0.21981951 0.23264663 0.3197222  0.02564379 0.09343378]\n",
      " [0.65357819 0.6228442  0.15791086 0.86294491 0.10473987]]\n",
      "[0.17825318 0.48040361]\n",
      "[[0.17825318]\n",
      " [0.48040361]]\n",
      "[[0.17825318 0.17825318 0.17825318 0.17825318 0.17825318]\n",
      " [0.48040361 0.48040361 0.48040361 0.48040361 0.48040361]]\n",
      "[[ 0.04156633  0.05439345  0.14146902 -0.1526094  -0.0848194 ]\n",
      " [ 0.17317458  0.1424406  -0.32249274  0.3825413  -0.37566373]]\n"
     ]
    }
   ],
   "source": [
    "r_rev2=r.reshape(2,5)\n",
    "print(r_rev2)\n",
    "row_means = np.mean(r_rev2,1)\n",
    "print(row_means)\n",
    "row_means = row_means.reshape(2,1)\n",
    "print(row_means)\n",
    "row_means_rev = np.repeat(row_means,5,axis=1)\n",
    "print(row_means_rev)\n",
    "final_r = r_rev2 - row_means_rev\n",
    "print(final_r)"
   ]
  },
  {
   "cell_type": "markdown",
   "metadata": {
    "id": "Lp40FFAXDzuN"
   },
   "source": [
    "11- Based on worldometers.info website, the world population on 17th of February 2019 at 11:00 am is ~7684621550 and the average growth rate per day is ~107000. \n",
    "```\n",
    "# World population\n",
    "world_pop = 7684621550\n",
    "# average growth rate per day\n",
    "growth_rate = 107000\n",
    "```\n",
    "Create an array (call it: `world_pop_arr`) which shows the world population from 17th of February until 26th of February. Now create a dictionary with all these information and save the dictionary into a file using `numpy.save`.\n"
   ]
  },
  {
   "cell_type": "code",
   "execution_count": null,
   "metadata": {
    "colab": {
     "base_uri": "https://localhost:8080/"
    },
    "id": "V6LpLjadRSx2",
    "outputId": "d5aba345-0c46-45ca-de70-42594aa43012"
   },
   "outputs": [
    {
     "data": {
      "text/plain": [
       "array([7684621550, 7684728550, 7684835550, 7684942550, 7685049550,\n",
       "       7685156550, 7685263550, 7685370550, 7685477550, 7685584550])"
      ]
     },
     "execution_count": 82,
     "metadata": {},
     "output_type": "execute_result"
    },
    {
     "data": {
      "text/plain": [
       "array([17, 18, 19, 20, 21, 22, 23, 24, 25, 26])"
      ]
     },
     "execution_count": 82,
     "metadata": {},
     "output_type": "execute_result"
    },
    {
     "data": {
      "text/plain": [
       "{17: 7684621550,\n",
       " 18: 7684728550,\n",
       " 19: 7684835550,\n",
       " 20: 7684942550,\n",
       " 21: 7685049550,\n",
       " 22: 7685156550,\n",
       " 23: 7685263550,\n",
       " 24: 7685370550,\n",
       " 25: 7685477550,\n",
       " 26: 7685584550}"
      ]
     },
     "execution_count": 82,
     "metadata": {},
     "output_type": "execute_result"
    }
   ],
   "source": [
    "world_pop_arr=([7684621550])\n",
    "day_arr=([17])\n",
    "total_day=(26-17)+1\n",
    "world_pop_0 = 7684621550\n",
    "growth_rate = 107000\n",
    "day_arr=([17])\n",
    "day_count=17\n",
    "\n",
    "for i in range(1,total_day):\n",
    "    world_pop_0 += growth_rate\n",
    "    world_pop_arr=np.append(world_pop_arr,world_pop_0)\n",
    "\n",
    "for i in range(1,total_day):\n",
    "    day_count += 1\n",
    "    day_arr=np.append(day_arr,day_count)\n",
    "\n",
    "world_pop_arr\n",
    "day_arr\n",
    "\n",
    "my_dict=dict(zip(day_arr, world_pop_arr))\n",
    "my_dict\n",
    "\n",
    "np.save(\"example_dictionary.npy\", my_dict)\n"
   ]
  },
  {
   "cell_type": "markdown",
   "metadata": {
    "id": "5-DPDMibDzuN"
   },
   "source": [
    "12- Write a time_resolved function for an arbitrary array and an arbitrary step (or window size) that you define."
   ]
  },
  {
   "cell_type": "code",
   "execution_count": 7,
   "metadata": {
    "colab": {
     "base_uri": "https://localhost:8080/"
    },
    "id": "A7EZnFEzgeXT",
    "outputId": "596e9a96-91b4-46f2-d1e6-7d717995d48f"
   },
   "outputs": [
    {
     "data": {
      "text/plain": [
       "array([4., 5., 4.])"
      ]
     },
     "execution_count": 7,
     "metadata": {},
     "output_type": "execute_result"
    }
   ],
   "source": [
    "import numpy as np\n",
    "def time_resolved(arr, w_size, shift):\n",
    "    sub_arr=np.array([])\n",
    "    for i in range(shift-1,shift+w_size-1):\n",
    "        sub_arr=np.append(sub_arr,arr[i])\n",
    "    return sub_arr\n",
    "\n",
    "arr=np.array([1,2,6,4,5,4,2,7,8,9])\n",
    "time_resolved(arr,3,4)"
   ]
  },
  {
   "cell_type": "markdown",
   "metadata": {
    "id": "qJLrJFseWDVh"
   },
   "source": [
    "## Matplotlib"
   ]
  },
  {
   "cell_type": "markdown",
   "metadata": {
    "id": "zj_m17tLW9ev"
   },
   "source": [
    "Visualization is one of the most important segments of data analysis. It allows us visual access to huge amounts of data in a simple and powerful way. The core library in Python used for visualization is matplotlib. Matplotlib development started with the idea of emulating Matlab commands in Python. By importing the following module,\n",
    "```\n",
    "import matplotlib.pyplot as plt\n",
    "```\n",
    "one will have access to many functions which are similar to Matlab function for plotting. Let's create some simple plots to learn the important syntaxes."
   ]
  },
  {
   "cell_type": "code",
   "execution_count": null,
   "metadata": {
    "colab": {
     "base_uri": "https://localhost:8080/",
     "height": 297
    },
    "id": "kaGlR2GEZyAL",
    "outputId": "ae18e656-0bd7-4de4-acbf-aa352160a753"
   },
   "outputs": [
    {
     "data": {
      "text/plain": [
       "[<matplotlib.lines.Line2D at 0x7effedde2490>]"
      ]
     },
     "execution_count": 84,
     "metadata": {},
     "output_type": "execute_result"
    },
    {
     "data": {
      "text/plain": [
       "Text(0.5, 0, 'X label')"
      ]
     },
     "execution_count": 84,
     "metadata": {},
     "output_type": "execute_result"
    },
    {
     "data": {
      "text/plain": [
       "Text(0, 0.5, 'Y label')"
      ]
     },
     "execution_count": 84,
     "metadata": {},
     "output_type": "execute_result"
    },
    {
     "data": {
      "image/png": "[encoded data removed]",
      "text/plain": [
       "<Figure size 432x288 with 1 Axes>"
      ]
     },
     "metadata": {
      "needs_background": "light"
     },
     "output_type": "display_data"
    }
   ],
   "source": [
    "import matplotlib.pyplot as plt \n",
    "\n",
    "# data to be plotted\n",
    "X = [1,2,3,4]\n",
    "Y = [10,22,30,40]\n",
    "\n",
    "# plot \n",
    "plt.plot(X, Y, 'r-o')\n",
    "# define xlabel\n",
    "plt.xlabel('X label')\n",
    "# define ylabel\n",
    "plt.ylabel('Y label')\n",
    "# show the plotted figure\n",
    "plt.show()"
   ]
  },
  {
   "cell_type": "markdown",
   "metadata": {
    "id": "k0cjiFFea8OJ"
   },
   "source": [
    "Check the following code and the produced figures. Can you tell what each line of code is doing? "
   ]
  },
  {
   "cell_type": "code",
   "execution_count": null,
   "metadata": {
    "colab": {
     "base_uri": "https://localhost:8080/",
     "height": 300
    },
    "id": "z7WaNnacaytl",
    "outputId": "2b09afd7-11bd-4ef8-edc4-77eb2e5816a6"
   },
   "outputs": [
    {
     "data": {
      "text/plain": [
       "[<matplotlib.lines.Line2D at 0x7effeda83550>]"
      ]
     },
     "execution_count": 90,
     "metadata": {},
     "output_type": "execute_result"
    },
    {
     "data": {
      "text/plain": [
       "[<matplotlib.lines.Line2D at 0x7effeda83a90>]"
      ]
     },
     "execution_count": 90,
     "metadata": {},
     "output_type": "execute_result"
    },
    {
     "data": {
      "text/plain": [
       "[<matplotlib.lines.Line2D at 0x7effeda92050>]"
      ]
     },
     "execution_count": 90,
     "metadata": {},
     "output_type": "execute_result"
    },
    {
     "data": {
      "text/plain": [
       "<matplotlib.legend.Legend at 0x7effedac2b50>"
      ]
     },
     "execution_count": 90,
     "metadata": {},
     "output_type": "execute_result"
    },
    {
     "data": {
      "image/png": "[encoded data removed]",
      "text/plain": [
       "<Figure size 432x288 with 1 Axes>"
      ]
     },
     "metadata": {
      "needs_background": "light"
     },
     "output_type": "display_data"
    }
   ],
   "source": [
    "import numpy as np\n",
    "import matplotlib.pyplot as plt\n",
    "\n",
    "# evenly sampled time at 200ms intervals\n",
    "t = np.arange(0., 5., 0.2)\n",
    "\n",
    "# red dashes, blue squares and green triangles\n",
    "plt.plot(t, t, 'r', label='line one', linewidth=5)\n",
    "plt.plot(t, t**2, 'b^',label='line two', linewidth=2)\n",
    "plt.plot(t,t**3, 'g^', label='marker', markersize = 4)\n",
    "plt.legend()\n",
    "plt.grid(True, color='k') ?\n",
    "plt.show()"
   ]
  },
  {
   "cell_type": "code",
   "execution_count": null,
   "metadata": {
    "colab": {
     "base_uri": "https://localhost:8080/",
     "height": 376
    },
    "id": "g7GUwfxIccxn",
    "outputId": "f5d4d6ed-2f17-4cbb-bd6e-2c6b92d2e6e2"
   },
   "outputs": [
    {
     "data": {
      "image/png": "[encoded data removed]",
      "text/plain": [
       "<Figure size 432x288 with 1 Axes>"
      ]
     },
     "metadata": {
      "needs_background": "light",
      "tags": []
     },
     "output_type": "display_data"
    }
   ],
   "source": [
    "import matplotlib.pyplot as plt\n",
    "population_age = [22,55,62,45,21,22,34,42,42,4,2,102,95,85,55,110,120,70,65,55,111,115,80,75,65,54,44,43,42,48]\n",
    "bins = [0,10,20,30,40,50,60,70,80,90,100]\n",
    "plt.hist(population_age, bins, histtype='bar', rwidth=0.8)\n",
    "plt.xlabel('age groups')\n",
    "plt.ylabel('Number of people')\n",
    "plt.title('Histogram')\n",
    "plt.show()"
   ]
  },
  {
   "cell_type": "markdown",
   "metadata": {
    "id": "ZNzGhKI0ce1o"
   },
   "source": [
    "What you tried to do with the last two figures is the best way of learning matplotlib syntaxes and produces whatever figure you like. Probably you did the following: Checking the figure axes, colors, lines, labels, bars, etc and trying to figure out the line in the code responsible for that feature. This is a very efficient way to create figures and add whatever details you like. One of the best collections for these examples can be found at the following link:\n",
    "\n",
    "[https://matplotlib.org/gallery.html](https://matplotlib.org/gallery.html )\n",
    "\n",
    "Click on the link and find the figure you are interested in and check the code for that figure.\n",
    "\n",
    "As a good exercise try to find out how one can plot multiple subplots in one plot?\n"
   ]
  },
  {
   "cell_type": "markdown",
   "metadata": {
    "id": "yBxEwwDutA65"
   },
   "source": [
    "### Exercises (matplotlib)"
   ]
  },
  {
   "cell_type": "markdown",
   "metadata": {
    "id": "EfGLmmLftDyD"
   },
   "source": [
    "1- Plot two or more lines with legends, different widths and colors."
   ]
  },
  {
   "cell_type": "code",
   "execution_count": null,
   "metadata": {
    "colab": {
     "base_uri": "https://localhost:8080/",
     "height": 314
    },
    "id": "Fr76zhy0ZfRZ",
    "outputId": "a02718db-3d81-4938-cc4c-76c569bc1f80"
   },
   "outputs": [
    {
     "data": {
      "text/plain": [
       "[<matplotlib.lines.Line2D at 0x7effed48ee50>]"
      ]
     },
     "execution_count": 107,
     "metadata": {},
     "output_type": "execute_result"
    },
    {
     "data": {
      "text/plain": [
       "[<matplotlib.lines.Line2D at 0x7effed488510>]"
      ]
     },
     "execution_count": 107,
     "metadata": {},
     "output_type": "execute_result"
    },
    {
     "data": {
      "text/plain": [
       "[<matplotlib.lines.Line2D at 0x7effed462f90>]"
      ]
     },
     "execution_count": 107,
     "metadata": {},
     "output_type": "execute_result"
    },
    {
     "data": {
      "text/plain": [
       "Text(0.5, 0, 'X label')"
      ]
     },
     "execution_count": 107,
     "metadata": {},
     "output_type": "execute_result"
    },
    {
     "data": {
      "text/plain": [
       "Text(0, 0.5, 'Y label')"
      ]
     },
     "execution_count": 107,
     "metadata": {},
     "output_type": "execute_result"
    },
    {
     "data": {
      "text/plain": [
       "<function matplotlib.pyplot.show>"
      ]
     },
     "execution_count": 107,
     "metadata": {},
     "output_type": "execute_result"
    },
    {
     "data": {
      "image/png": "[encoded data removed]",
      "text/plain": [
       "<Figure size 432x288 with 1 Axes>"
      ]
     },
     "metadata": {
      "needs_background": "light"
     },
     "output_type": "display_data"
    }
   ],
   "source": [
    "import matplotlib.pyplot as plt \n",
    "\n",
    "# data to be plotted\n",
    "X = [1,2,3,4]\n",
    "Y = [10,22,30,40]\n",
    "Z = [3,5,7,9]\n",
    "Q = [3,15,27,39]\n",
    "\n",
    "\n",
    "plt.plot(X, Y, 'r-o', linewidth=2)\n",
    "plt.plot(X, Z, 'k-2', linewidth=3)\n",
    "plt.plot(X, Q, 'g-+', linewidth=3)\n",
    "# define xlabel\n",
    "plt.xlabel('X label',)\n",
    "# define ylabel\n",
    "plt.ylabel('Y label')\n",
    "plt.show"
   ]
  },
  {
   "cell_type": "markdown",
   "metadata": {
    "id": "o5oJ01hbJ41p"
   },
   "source": [
    "2- Plot two or more lines with different styles."
   ]
  },
  {
   "cell_type": "code",
   "execution_count": null,
   "metadata": {
    "id": "T5GoUJv4bc8u"
   },
   "outputs": [],
   "source": []
  },
  {
   "cell_type": "markdown",
   "metadata": {
    "id": "aPlCltQhDzuP"
   },
   "source": [
    "3- Choose one of your favorite plots from matplotlib gallery and explain the script for that plot to your teammate."
   ]
  },
  {
   "cell_type": "code",
   "execution_count": null,
   "metadata": {
    "id": "DLqAB2W7bfzN"
   },
   "outputs": [],
   "source": []
  },
  {
   "cell_type": "markdown",
   "metadata": {
    "id": "q4K7S1SKDzuP"
   },
   "source": [
    "4- Generate random values from 0 to 1000 and plot these values. For the color of the plot, choose blue color for the values below 500 and red for those above 500."
   ]
  },
  {
   "cell_type": "code",
   "execution_count": null,
   "metadata": {
    "colab": {
     "base_uri": "https://localhost:8080/"
    },
    "id": "lmHAqf5VcUT1",
    "outputId": "7c1c94e5-32f6-4a58-85ff-443f9b173f7a"
   },
   "outputs": [
    {
     "data": {
      "text/plain": [
       "array([406, 650, 254, 502, 850, 615, 904, 935,  88, 255,  48, 134, 974,\n",
       "       508, 371, 493, 887, 419, 542, 296,  35, 260, 850, 438, 867, 986,\n",
       "       229, 935, 160,   1, 805, 376, 504, 808, 518,  53, 904, 287, 576,\n",
       "       543, 751, 704, 831, 495, 627, 952, 573,  59, 636, 908])"
      ]
     },
     "execution_count": 111,
     "metadata": {},
     "output_type": "execute_result"
    }
   ],
   "source": [
    "data=np.random.randint(0,1000,50)\n",
    "data"
   ]
  },
  {
   "cell_type": "markdown",
   "metadata": {
    "id": "IowaKFfUDzuP"
   },
   "source": [
    "5- For the random values generated in the exercise 4, create a new plot where you put a marker or a dot wherever the value is above 800."
   ]
  },
  {
   "cell_type": "markdown",
   "metadata": {
    "id": "-1S3cD0dDzuP"
   },
   "source": [
    "6- For the random values generated in exercise 4, create a histogram (in a new plot) with appropriate bin size."
   ]
  },
  {
   "cell_type": "markdown",
   "metadata": {
    "id": "PY0dA5cFDzuQ"
   },
   "source": [
    "7- Now apply the time_resolved analysis function that you wrote during numpy exercise on the data from exercise 4 and plot it in a new plot."
   ]
  },
  {
   "cell_type": "code",
   "execution_count": 5,
   "metadata": {
    "colab": {
     "base_uri": "https://localhost:8080/",
     "height": 421
    },
    "id": "3mJlf0PR5X_G",
    "outputId": "df4eb985-474c-4cdd-a68a-f4cdaf9acd5c"
   },
   "outputs": [
    {
     "name": "stdout",
     "output_type": "stream",
     "text": [
      "[538 933 348 129 654 581 301 871 485 644 142 545  81  79 118 972 172 749\n",
      " 979 174 141 380 676 470  77   4 830 694 772 549 618 256 373 918  58 987\n",
      " 134 659 141 133 968 168 742 729 260 807  28 141 262 631]\n",
      "[ 1  2  3  4  5  6  7  8  9 10 11 12 13 14 15 16 17 18 19 20 21 22 23 24\n",
      " 25 26 27 28 29 30 31 32 33 34 35 36 37 38 39 40 41 42 43 44 45 46 47 48\n",
      " 49 50]\n",
      "[644. 142. 545.  81.  79. 118. 972. 172. 749. 979. 174. 141. 380. 676.\n",
      " 470.  77.   4. 830. 694. 772.]\n"
     ]
    },
    {
     "data": {
      "text/plain": [
       "<function matplotlib.pyplot.show(close=None, block=None)>"
      ]
     },
     "execution_count": 5,
     "metadata": {},
     "output_type": "execute_result"
    },
    {
     "data": {
      "image/png": "[encoded data removed]",
      "text/plain": [
       "<Figure size 640x480 with 1 Axes>"
      ]
     },
     "metadata": {},
     "output_type": "display_data"
    }
   ],
   "source": [
    "import matplotlib.pyplot as plt \n",
    "\n",
    "rand_val=np.random.randint(0,1000,50)\n",
    "print(rand_val)\n",
    "nr=np.arange(1,51)\n",
    "print(nr)\n",
    "plt.plot(nr, rand_val, 'r')\n",
    "\n",
    "def time_resolved(arr,w_size,shift):\n",
    "    sub_arr=np.array([])\n",
    "    for i in range(shift-1,shift+w_size-1):\n",
    "        sub_arr=np.append(sub_arr,arr[i])\n",
    "    return sub_arr\n",
    "\n",
    "sub_arr = time_resolved(rand_val,20,10)\n",
    "nr2=np.arange(10,30)\n",
    "\n",
    "print(sub_arr)\n",
    "plt.plot(nr2,sub_arr,'b')\n",
    "plt.show"
   ]
  },
  {
   "cell_type": "markdown",
   "metadata": {
    "id": "rNAwbkytDzuQ"
   },
   "source": [
    "8- Now put the plots from exercise 4 to 7 in one plot by using `plt.subplot`."
   ]
  },
  {
   "cell_type": "code",
   "execution_count": null,
   "metadata": {
    "id": "yLSFgv_kDzuQ",
    "tags": []
   },
   "outputs": [],
   "source": []
  }
 ],
 "metadata": {
  "colab": {
   "collapsed_sections": [],
   "name": "Numpy and Matplotit (previous version with solutions).ipynb",
   "provenance": []
  },
  "kernelspec": {
   "display_name": "Python 3 (ipykernel)",
   "language": "python",
   "name": "python3"
  },
  "language_info": {
   "codemirror_mode": {
    "name": "ipython",
    "version": 3
   },
   "file_extension": ".py",
   "mimetype": "text/x-python",
   "name": "python",
   "nbconvert_exporter": "python",
   "pygments_lexer": "ipython3",
   "version": "3.11.5"
  }
 },
 "nbformat": 4,
 "nbformat_minor": 4
}
